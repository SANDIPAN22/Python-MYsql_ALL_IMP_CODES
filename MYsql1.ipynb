{
 "cells": [
  {
   "cell_type": "markdown",
   "metadata": {},
   "source": [
    "# MYSQL Handling using Python\n",
    "\n",
    "## connection"
   ]
  },
  {
   "cell_type": "code",
   "execution_count": 56,
   "metadata": {},
   "outputs": [
    {
     "name": "stdout",
     "output_type": "stream",
     "text": [
      "<mysql.connector.connection.MySQLConnection object at 0x000001575DC57C18>\n"
     ]
    }
   ],
   "source": [
    "import mysql.connector as mc\n",
    "\n",
    "mysql=mc.connect(\n",
    "    host='localhost',\n",
    "    user='root',\n",
    "    port='22799',\n",
    "    password=\"password\",\n",
    "  #  database='empdb',\n",
    "    auth_plugin='mysql_native_password'\n",
    "    )\n",
    "print(mysql)"
   ]
  },
  {
   "cell_type": "markdown",
   "metadata": {},
   "source": [
    "## creating cursor object"
   ]
  },
  {
   "cell_type": "code",
   "execution_count": 57,
   "metadata": {},
   "outputs": [],
   "source": [
    "mycur=mysql.cursor()"
   ]
  },
  {
   "cell_type": "markdown",
   "metadata": {},
   "source": [
    "## Fetch all databases "
   ]
  },
  {
   "cell_type": "code",
   "execution_count": 58,
   "metadata": {},
   "outputs": [
    {
     "name": "stdout",
     "output_type": "stream",
     "text": [
      "('emp',) ('empdb',) ('information_schema',) ('mysql',) ('performance_schema',) ('sys',)\n"
     ]
    }
   ],
   "source": [
    "mycur.execute(\"Show databases\")\n",
    "\n",
    "print(* mycur)"
   ]
  },
  {
   "cell_type": "markdown",
   "metadata": {},
   "source": [
    "## select or connect the particular database "
   ]
  },
  {
   "cell_type": "code",
   "execution_count": 59,
   "metadata": {},
   "outputs": [],
   "source": [
    "mycur.execute(\"use empdb\")"
   ]
  },
  {
   "cell_type": "markdown",
   "metadata": {},
   "source": [
    "## Fetch all tables from the pre-connected database"
   ]
  },
  {
   "cell_type": "code",
   "execution_count": 60,
   "metadata": {},
   "outputs": [
    {
     "name": "stdout",
     "output_type": "stream",
     "text": [
      "('student',)\n"
     ]
    }
   ],
   "source": [
    "mycur.execute(\"show tables\")\n",
    "print(*mycur)"
   ]
  },
  {
   "cell_type": "markdown",
   "metadata": {},
   "source": [
    "## Create table"
   ]
  },
  {
   "cell_type": "code",
   "execution_count": 61,
   "metadata": {},
   "outputs": [],
   "source": [
    "mycur.execute(\"create table if not exists student (roll int not null auto_increment primary key,name varchar (100) not null,address varchar(200) not null)\")\n"
   ]
  },
  {
   "cell_type": "markdown",
   "metadata": {},
   "source": [
    "## Describe a particular table format "
   ]
  },
  {
   "cell_type": "code",
   "execution_count": 62,
   "metadata": {},
   "outputs": [
    {
     "name": "stdout",
     "output_type": "stream",
     "text": [
      "('roll', b'int', 'NO', bytearray(b'PRI'), None, 'auto_increment')\n",
      "('name', b'varchar(100)', 'NO', bytearray(b''), None, '')\n",
      "('address', b'varchar(200)', 'NO', bytearray(b''), None, '')\n",
      "('age', b'int', 'NO', bytearray(b''), None, '')\n",
      "('father_name', b'varchar(200)', 'NO', bytearray(b''), None, '')\n"
     ]
    }
   ],
   "source": [
    "try:\n",
    "    mycur.execute(\"describe student\")\n",
    "    for x in mycur:\n",
    "        print(x)\n",
    "except:\n",
    "    print(\"problem to handle !! \")"
   ]
  },
  {
   "cell_type": "markdown",
   "metadata": {},
   "source": [
    "## Alter Table\n",
    "\n",
    "here we can \n",
    "\n",
    "#### alter table TABLE_NAME add COL_NAME COL DEF    #####(ADD COL)\n",
    "\n",
    "#### alter table TABLE_NAME drop column COL_NAME    #####(DROP COL)\n",
    "\n",
    "#### alter table TABLE_NAME rename to NEW_TAB_NAME   #####(CHANGE TABLE NAME)\n",
    "\n",
    "#### alter table TABLE_NAME modify COL_NAME NEW_COL_DEFINATION     #####(MODIFY COL DEFINATION)\n",
    "\n",
    "#### alter table TABLE_NAME change column OLD_COL_NAME NEW_COL_NAME NEW_COL_DEFINATION      #####(CHANGE COL NAME)"
   ]
  },
  {
   "cell_type": "code",
   "execution_count": 63,
   "metadata": {},
   "outputs": [
    {
     "name": "stdout",
     "output_type": "stream",
     "text": [
      "problem to handle !! \n"
     ]
    }
   ],
   "source": [
    "try:\n",
    "    mycur.execute(\"alter table student add father_name varchar(200) not null\")\n",
    "    for x in mycur:\n",
    "        print(x)\n",
    "except:\n",
    "    print(\"problem to handle !! \")"
   ]
  },
  {
   "cell_type": "code",
   "execution_count": 64,
   "metadata": {},
   "outputs": [
    {
     "name": "stdout",
     "output_type": "stream",
     "text": [
      "('roll', b'int', 'NO', bytearray(b'PRI'), None, 'auto_increment')\n",
      "('name', b'varchar(100)', 'NO', bytearray(b''), None, '')\n",
      "('address', b'varchar(200)', 'NO', bytearray(b''), None, '')\n",
      "('age', b'int', 'NO', bytearray(b''), None, '')\n",
      "('father_name', b'varchar(200)', 'NO', bytearray(b''), None, '')\n"
     ]
    }
   ],
   "source": [
    "try:\n",
    "    mycur.execute(\"describe student\")\n",
    "    for x in mycur:\n",
    "        print(x)\n",
    "except:\n",
    "    print(\"problem to handle !! \")"
   ]
  },
  {
   "cell_type": "markdown",
   "metadata": {},
   "source": [
    "## Enter data into a table"
   ]
  },
  {
   "cell_type": "code",
   "execution_count": 67,
   "metadata": {},
   "outputs": [],
   "source": [
    "try:\n",
    "    mycur.execute(\"insert into student values(1,'Tony Stark','64, miami road, NY',58,'Haward Stark')\")\n",
    "    \n",
    "except:\n",
    "    print(\"Error occured !!\")"
   ]
  },
  {
   "cell_type": "code",
   "execution_count": 71,
   "metadata": {},
   "outputs": [],
   "source": [
    "try:\n",
    "    mycur.execute(\"insert into student values(2,'Thor Odinson','Asgurd',130,'Odin')\")\n",
    "    \n",
    "except:\n",
    "    print(\"Error occured !!\")"
   ]
  },
  {
   "cell_type": "markdown",
   "metadata": {},
   "source": [
    "## show the data of the table"
   ]
  },
  {
   "cell_type": "code",
   "execution_count": 73,
   "metadata": {},
   "outputs": [
    {
     "name": "stdout",
     "output_type": "stream",
     "text": [
      "(1, 'Tony Stark', '64, miami road, NY', 58, 'Haward Stark')\n",
      "(2, 'Thor Odinson', 'Asgurd', 130, 'Odin')\n"
     ]
    }
   ],
   "source": [
    "try:\n",
    "    mycur.execute(\"select * from  student\")\n",
    "    for x in mycur:\n",
    "        print(x)\n",
    "except:\n",
    "    print(\"problem to handle !! \")"
   ]
  },
  {
   "cell_type": "markdown",
   "metadata": {},
   "source": [
    "## MySQL UPDATE Query\n",
    "MySQL UPDATE query is a DML statement used to modify the data of the MySQL table within the database. In a real-life scenario, records are changed over a period of time. \n",
    "So, we need to make changes in the values of the tables also. To do so, it is required to use the UPDATE query.\n",
    "\n",
    "The UPDATE statement is used with the SET and WHERE clauses. \n",
    "The SET clause is used to change the values of the specified column. \n",
    "We can update single or multiple columns at a time."
   ]
  },
  {
   "cell_type": "code",
   "execution_count": 76,
   "metadata": {},
   "outputs": [],
   "source": [
    "try:\n",
    "    mycur.execute(\"update student set age = 200,father_name='oodin' where address= 'asgurd'\")\n",
    "#     for x in mycur:\n",
    "#         print(x)\n",
    "except:\n",
    "    print(\"problem to handle !! \")"
   ]
  },
  {
   "cell_type": "code",
   "execution_count": 77,
   "metadata": {},
   "outputs": [
    {
     "name": "stdout",
     "output_type": "stream",
     "text": [
      "(1, 'Tony Stark', '64, miami road, NY', 58, 'Haward Stark')\n",
      "(2, 'Thor Odinson', 'Asgurd', 200, 'oodin')\n"
     ]
    }
   ],
   "source": [
    "try:\n",
    "    mycur.execute(\"select * from  student\")\n",
    "    for x in mycur:\n",
    "        print(x)\n",
    "except:\n",
    "    print(\"problem to handle !! \")"
   ]
  },
  {
   "cell_type": "code",
   "execution_count": 78,
   "metadata": {},
   "outputs": [],
   "source": [
    "try:\n",
    "    mycur.execute(\"insert into student values(3,'vision','lab',5,'Jarvis')\")\n",
    "    \n",
    "except:\n",
    "    print(\"Error occured !!\")"
   ]
  },
  {
   "cell_type": "code",
   "execution_count": 79,
   "metadata": {},
   "outputs": [
    {
     "name": "stdout",
     "output_type": "stream",
     "text": [
      "(1, 'Tony Stark', '64, miami road, NY', 58, 'Haward Stark')\n",
      "(2, 'Thor Odinson', 'Asgurd', 200, 'oodin')\n",
      "(3, 'vision', 'lab', 5, 'Jarvis')\n"
     ]
    }
   ],
   "source": [
    "try:\n",
    "    mycur.execute(\"select * from  student\")\n",
    "    for x in mycur:\n",
    "        print(x)\n",
    "except:\n",
    "    print(\"problem to handle !! \")"
   ]
  },
  {
   "cell_type": "code",
   "execution_count": 83,
   "metadata": {},
   "outputs": [],
   "source": [
    "try:\n",
    "    mycur.execute(\"delete from student where name='vision'\")\n",
    "#     for x in mycur:\n",
    "#         print(x)\n",
    "except:\n",
    "    print(\"problem to handle !! \")"
   ]
  },
  {
   "cell_type": "code",
   "execution_count": 84,
   "metadata": {},
   "outputs": [
    {
     "name": "stdout",
     "output_type": "stream",
     "text": [
      "(1, 'Tony Stark', '64, miami road, NY', 58, 'Haward Stark')\n",
      "(2, 'Thor Odinson', 'Asgurd', 200, 'oodin')\n"
     ]
    }
   ],
   "source": [
    "try:\n",
    "    mycur.execute(\"select * from  student\")\n",
    "    for x in mycur:\n",
    "        print(x)\n",
    "except:\n",
    "    print(\"problem to handle !! \")"
   ]
  },
  {
   "cell_type": "markdown",
   "metadata": {},
   "source": [
    "## MySQL Distinct Clause\n",
    "MySQL DISTINCT clause is used to remove duplicate records from the table and fetch only the unique records. \n",
    "The DISTINCT clause is only used with the SELECT statement."
   ]
  },
  {
   "cell_type": "code",
   "execution_count": 85,
   "metadata": {},
   "outputs": [
    {
     "name": "stdout",
     "output_type": "stream",
     "text": [
      "('Tony Stark', 'Haward Stark')\n",
      "('Thor Odinson', 'oodin')\n"
     ]
    }
   ],
   "source": [
    "try:\n",
    "    mycur.execute(\"select distinct name, father_name from  student\")\n",
    "    for x in mycur:\n",
    "        print(x)\n",
    "except:\n",
    "    print(\"problem to handle !! \")"
   ]
  },
  {
   "cell_type": "markdown",
   "metadata": {},
   "source": [
    "## MySQL WHERE Clause\n",
    "MySQL WHERE Clause is used with SELECT, INSERT, UPDATE and DELETE clause to filter the results. \n",
    "It specifies a specific position where you have to do the operation"
   ]
  },
  {
   "cell_type": "code",
   "execution_count": 87,
   "metadata": {},
   "outputs": [
    {
     "name": "stdout",
     "output_type": "stream",
     "text": [
      "('Tony Stark', 'Haward Stark')\n",
      "('Thor Odinson', 'oodin')\n"
     ]
    }
   ],
   "source": [
    "try:\n",
    "    mycur.execute(\"select distinct name, father_name from  student where age=58 or address='asgurd'\")\n",
    "    for x in mycur:\n",
    "        print(x)\n",
    "except:\n",
    "    print(\"problem to handle !! \")"
   ]
  },
  {
   "cell_type": "code",
   "execution_count": 88,
   "metadata": {},
   "outputs": [
    {
     "name": "stdout",
     "output_type": "stream",
     "text": [
      "('Thor Odinson', 'oodin')\n"
     ]
    }
   ],
   "source": [
    "try:\n",
    "    mycur.execute(\"select distinct name, father_name from  student where age=200 and address='asgurd'\")\n",
    "    for x in mycur:\n",
    "        print(x)\n",
    "except:\n",
    "    print(\"problem to handle !! \")"
   ]
  },
  {
   "cell_type": "markdown",
   "metadata": {},
   "source": [
    "## MySQL ORDER BY Clause\n",
    "The MYSQL ORDER BY Clause is used to sort the records in ascending or descending order."
   ]
  },
  {
   "cell_type": "code",
   "execution_count": 89,
   "metadata": {},
   "outputs": [
    {
     "name": "stdout",
     "output_type": "stream",
     "text": [
      "('Thor Odinson', 'oodin')\n",
      "('Tony Stark', 'Haward Stark')\n"
     ]
    }
   ],
   "source": [
    "try:\n",
    "    mycur.execute(\"select distinct name, father_name from  student order by age DESC\")\n",
    "    for x in mycur:\n",
    "        print(x)\n",
    "except:\n",
    "    print(\"problem to handle !! \")"
   ]
  },
  {
   "cell_type": "code",
   "execution_count": 90,
   "metadata": {},
   "outputs": [],
   "source": [
    "try:\n",
    "    mycur.execute(\"insert into student values(3,'loki','asgurd',150,'odin')\")\n",
    "    \n",
    "except:\n",
    "    print(\"Error occured !!\")"
   ]
  },
  {
   "cell_type": "code",
   "execution_count": 96,
   "metadata": {},
   "outputs": [
    {
     "name": "stdout",
     "output_type": "stream",
     "text": [
      "('64, miami road, NY', 1)\n",
      "('Asgurd', 2)\n"
     ]
    }
   ],
   "source": [
    "try:\n",
    "    mycur.execute(\"select  address , count(*)  from student group by address\")\n",
    "    for x in mycur:\n",
    "        print(x)\n",
    "except:\n",
    "    print(\"problem to handle !! \")"
   ]
  },
  {
   "cell_type": "markdown",
   "metadata": {},
   "source": [
    "## MySQL HAVING Clause\n",
    "MySQL HAVING Clause is used with GROUP BY clause. It always returns the rows where condition is TRUE.\n"
   ]
  },
  {
   "cell_type": "code",
   "execution_count": 100,
   "metadata": {},
   "outputs": [
    {
     "name": "stdout",
     "output_type": "stream",
     "text": [
      "('Asgurd', 2)\n"
     ]
    }
   ],
   "source": [
    "try:\n",
    "    mycur.execute(\"select  address , count(*)  from student group by address having count(*)>=2\")\n",
    "    for x in mycur:\n",
    "        print(x)\n",
    "except:\n",
    "    print(\"problem to handle !! \")"
   ]
  },
  {
   "cell_type": "code",
   "execution_count": 102,
   "metadata": {},
   "outputs": [
    {
     "name": "stdout",
     "output_type": "stream",
     "text": [
      "('64, miami road, NY', 1)\n"
     ]
    }
   ],
   "source": [
    "try:\n",
    "    mycur.execute(\"select  address , count(*)  from student group by address having count(*)<2\")\n",
    "    for x in mycur:\n",
    "        print(x)\n",
    "except:\n",
    "    print(\"problem to handle !! \")"
   ]
  },
  {
   "cell_type": "markdown",
   "metadata": {},
   "source": [
    "## MySQL LIKE condition\n",
    "In MySQL, LIKE condition is used to perform pattern matching to find the correct result.\n",
    "It is used in SELECT, INSERT, UPDATE and DELETE statement with the combination of \n",
    "WHERE clause."
   ]
  },
  {
   "cell_type": "code",
   "execution_count": 103,
   "metadata": {},
   "outputs": [
    {
     "name": "stdout",
     "output_type": "stream",
     "text": [
      "(2, 'Thor Odinson', 'Asgurd', 200, 'oodin')\n"
     ]
    }
   ],
   "source": [
    "try:\n",
    "    mycur.execute(\"select * from student where name like 'Tho%'\")\n",
    "    for x in mycur:\n",
    "        print(x)\n",
    "except:\n",
    "    print(\"problem to handle !! \")"
   ]
  },
  {
   "cell_type": "code",
   "execution_count": 104,
   "metadata": {},
   "outputs": [
    {
     "name": "stdout",
     "output_type": "stream",
     "text": [
      "(1, 'Tony Stark', '64, miami road, NY', 58, 'Haward Stark')\n",
      "(2, 'Thor Odinson', 'Asgurd', 200, 'oodin')\n"
     ]
    }
   ],
   "source": [
    "try:\n",
    "    mycur.execute(\"select * from student where name like 'T%'\")\n",
    "    for x in mycur:\n",
    "        print(x)\n",
    "except:\n",
    "    print(\"problem to handle !! \")"
   ]
  },
  {
   "cell_type": "code",
   "execution_count": 108,
   "metadata": {},
   "outputs": [
    {
     "name": "stdout",
     "output_type": "stream",
     "text": [
      "(1, 'Tony Stark', '64, miami road, NY', 58, 'Haward Stark')\n"
     ]
    }
   ],
   "source": [
    "try:\n",
    "    mycur.execute(\"select * from student where name like 'T_ny %'\")\n",
    "    for x in mycur:\n",
    "        print(x)\n",
    "except:\n",
    "    print(\"problem to handle !! \")"
   ]
  },
  {
   "cell_type": "code",
   "execution_count": 109,
   "metadata": {},
   "outputs": [
    {
     "name": "stdout",
     "output_type": "stream",
     "text": [
      "(2, 'Thor Odinson', 'Asgurd', 200, 'oodin')\n",
      "(3, 'loki', 'asgurd', 150, 'odin')\n"
     ]
    }
   ],
   "source": [
    "try:\n",
    "    mycur.execute(\"select * from student where name not like 'T_ny %'\")\n",
    "    for x in mycur:\n",
    "        print(x)\n",
    "except:\n",
    "    print(\"problem to handle !! \")"
   ]
  },
  {
   "cell_type": "code",
   "execution_count": null,
   "metadata": {},
   "outputs": [],
   "source": []
  }
 ],
 "metadata": {
  "kernelspec": {
   "display_name": "Python 3",
   "language": "python",
   "name": "python3"
  },
  "language_info": {
   "codemirror_mode": {
    "name": "ipython",
    "version": 3
   },
   "file_extension": ".py",
   "mimetype": "text/x-python",
   "name": "python",
   "nbconvert_exporter": "python",
   "pygments_lexer": "ipython3",
   "version": "3.7.7"
  }
 },
 "nbformat": 4,
 "nbformat_minor": 4
}
